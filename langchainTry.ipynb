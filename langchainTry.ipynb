{
 "cells": [
  {
   "cell_type": "code",
   "execution_count": 2,
   "id": "3c2ec88d-53f4-4e42-9038-93f63b08e13d",
   "metadata": {
    "scrolled": true
   },
   "outputs": [
    {
     "name": "stdout",
     "output_type": "stream",
     "text": [
      "Collecting langchain\n",
      "  Obtaining dependency information for langchain from https://files.pythonhosted.org/packages/0d/29/635343c0d155997569b544d26da5a2a9ebade2423baffc9cd6066b01a386/langchain-0.2.16-py3-none-any.whl.metadata\n",
      "  Downloading langchain-0.2.16-py3-none-any.whl.metadata (7.1 kB)\n",
      "Requirement already satisfied: PyYAML>=5.3 in /home/raja/anaconda3/lib/python3.11/site-packages (from langchain) (6.0.1)\n",
      "Requirement already satisfied: SQLAlchemy<3,>=1.4 in /home/raja/anaconda3/lib/python3.11/site-packages (from langchain) (1.4.39)\n",
      "Requirement already satisfied: aiohttp<4.0.0,>=3.8.3 in /home/raja/anaconda3/lib/python3.11/site-packages (from langchain) (3.8.3)\n",
      "Collecting langchain-core<0.3.0,>=0.2.38 (from langchain)\n",
      "  Obtaining dependency information for langchain-core<0.3.0,>=0.2.38 from https://files.pythonhosted.org/packages/1c/e4/501fbe904530dad6ed80f03b188d7602081560dd5cc0bcf0b3c51778c314/langchain_core-0.2.38-py3-none-any.whl.metadata\n",
      "  Downloading langchain_core-0.2.38-py3-none-any.whl.metadata (6.2 kB)\n",
      "Collecting langchain-text-splitters<0.3.0,>=0.2.0 (from langchain)\n",
      "  Obtaining dependency information for langchain-text-splitters<0.3.0,>=0.2.0 from https://files.pythonhosted.org/packages/8f/f3/d01591229e9d0eec1e8106ed6f9b670f299beb1c94fed4aa335afa78acb0/langchain_text_splitters-0.2.4-py3-none-any.whl.metadata\n",
      "  Downloading langchain_text_splitters-0.2.4-py3-none-any.whl.metadata (2.3 kB)\n",
      "Collecting langsmith<0.2.0,>=0.1.17 (from langchain)\n",
      "  Obtaining dependency information for langsmith<0.2.0,>=0.1.17 from https://files.pythonhosted.org/packages/b0/94/9a1fa3823677770abf80a91a694e5bf8f64dafc331ab8f2a6d7f1ec11db2/langsmith-0.1.114-py3-none-any.whl.metadata\n",
      "  Downloading langsmith-0.1.114-py3-none-any.whl.metadata (13 kB)\n",
      "Requirement already satisfied: numpy<2,>=1 in /home/raja/anaconda3/lib/python3.11/site-packages (from langchain) (1.26.4)\n",
      "Requirement already satisfied: pydantic<3,>=1 in /home/raja/anaconda3/lib/python3.11/site-packages (from langchain) (2.5.3)\n",
      "Requirement already satisfied: requests<3,>=2 in /home/raja/anaconda3/lib/python3.11/site-packages (from langchain) (2.32.3)\n",
      "Requirement already satisfied: tenacity!=8.4.0,<9.0.0,>=8.1.0 in /home/raja/anaconda3/lib/python3.11/site-packages (from langchain) (8.2.2)\n",
      "Requirement already satisfied: attrs>=17.3.0 in /home/raja/anaconda3/lib/python3.11/site-packages (from aiohttp<4.0.0,>=3.8.3->langchain) (23.2.0)\n",
      "Requirement already satisfied: charset-normalizer<3.0,>=2.0 in /home/raja/anaconda3/lib/python3.11/site-packages (from aiohttp<4.0.0,>=3.8.3->langchain) (2.0.4)\n",
      "Requirement already satisfied: multidict<7.0,>=4.5 in /home/raja/anaconda3/lib/python3.11/site-packages (from aiohttp<4.0.0,>=3.8.3->langchain) (6.0.4)\n",
      "Requirement already satisfied: async-timeout<5.0,>=4.0.0a3 in /home/raja/anaconda3/lib/python3.11/site-packages (from aiohttp<4.0.0,>=3.8.3->langchain) (4.0.3)\n",
      "Requirement already satisfied: yarl<2.0,>=1.0 in /home/raja/anaconda3/lib/python3.11/site-packages (from aiohttp<4.0.0,>=3.8.3->langchain) (1.9.3)\n",
      "Requirement already satisfied: frozenlist>=1.1.1 in /home/raja/anaconda3/lib/python3.11/site-packages (from aiohttp<4.0.0,>=3.8.3->langchain) (1.4.0)\n",
      "Requirement already satisfied: aiosignal>=1.1.2 in /home/raja/anaconda3/lib/python3.11/site-packages (from aiohttp<4.0.0,>=3.8.3->langchain) (1.2.0)\n",
      "Requirement already satisfied: jsonpatch<2.0,>=1.33 in /home/raja/anaconda3/lib/python3.11/site-packages (from langchain-core<0.3.0,>=0.2.38->langchain) (1.33)\n",
      "Requirement already satisfied: packaging<25,>=23.2 in /home/raja/anaconda3/lib/python3.11/site-packages (from langchain-core<0.3.0,>=0.2.38->langchain) (24.1)\n",
      "Requirement already satisfied: typing-extensions>=4.7 in /home/raja/anaconda3/lib/python3.11/site-packages (from langchain-core<0.3.0,>=0.2.38->langchain) (4.12.2)\n",
      "Requirement already satisfied: httpx<1,>=0.23.0 in /home/raja/anaconda3/lib/python3.11/site-packages (from langsmith<0.2.0,>=0.1.17->langchain) (0.27.0)\n",
      "Collecting orjson<4.0.0,>=3.9.14 (from langsmith<0.2.0,>=0.1.17->langchain)\n",
      "  Obtaining dependency information for orjson<4.0.0,>=3.9.14 from https://files.pythonhosted.org/packages/d3/cb/55205f3f1ee6ba80c0a9a18ca07423003ca8de99192b18be30f1f31b4cdd/orjson-3.10.7-cp311-cp311-manylinux_2_17_x86_64.manylinux2014_x86_64.whl.metadata\n",
      "  Downloading orjson-3.10.7-cp311-cp311-manylinux_2_17_x86_64.manylinux2014_x86_64.whl.metadata (50 kB)\n",
      "\u001b[2K     \u001b[38;2;114;156;31m━━━━━━━━━━━━━━━━━━━━━━━━━━━━━━━━━━━━━━━\u001b[0m \u001b[32m50.4/50.4 kB\u001b[0m \u001b[31m532.0 kB/s\u001b[0m eta \u001b[36m0:00:00\u001b[0m1m915.7 kB/s\u001b[0m eta \u001b[36m0:00:01\u001b[0m\n",
      "\u001b[?25hRequirement already satisfied: annotated-types>=0.4.0 in /home/raja/anaconda3/lib/python3.11/site-packages (from pydantic<3,>=1->langchain) (0.6.0)\n",
      "Requirement already satisfied: pydantic-core==2.14.6 in /home/raja/anaconda3/lib/python3.11/site-packages (from pydantic<3,>=1->langchain) (2.14.6)\n",
      "Requirement already satisfied: idna<4,>=2.5 in /home/raja/anaconda3/lib/python3.11/site-packages (from requests<3,>=2->langchain) (3.7)\n",
      "Requirement already satisfied: urllib3<3,>=1.21.1 in /home/raja/anaconda3/lib/python3.11/site-packages (from requests<3,>=2->langchain) (1.26.19)\n",
      "Requirement already satisfied: certifi>=2017.4.17 in /home/raja/anaconda3/lib/python3.11/site-packages (from requests<3,>=2->langchain) (2024.7.4)\n",
      "Requirement already satisfied: greenlet!=0.4.17 in /home/raja/anaconda3/lib/python3.11/site-packages (from SQLAlchemy<3,>=1.4->langchain) (2.0.1)\n",
      "Requirement already satisfied: anyio in /home/raja/anaconda3/lib/python3.11/site-packages (from httpx<1,>=0.23.0->langsmith<0.2.0,>=0.1.17->langchain) (3.5.0)\n",
      "Requirement already satisfied: httpcore==1.* in /home/raja/anaconda3/lib/python3.11/site-packages (from httpx<1,>=0.23.0->langsmith<0.2.0,>=0.1.17->langchain) (1.0.2)\n",
      "Requirement already satisfied: sniffio in /home/raja/anaconda3/lib/python3.11/site-packages (from httpx<1,>=0.23.0->langsmith<0.2.0,>=0.1.17->langchain) (1.3.1)\n",
      "Requirement already satisfied: h11<0.15,>=0.13 in /home/raja/anaconda3/lib/python3.11/site-packages (from httpcore==1.*->httpx<1,>=0.23.0->langsmith<0.2.0,>=0.1.17->langchain) (0.14.0)\n",
      "Requirement already satisfied: jsonpointer>=1.9 in /home/raja/anaconda3/lib/python3.11/site-packages (from jsonpatch<2.0,>=1.33->langchain-core<0.3.0,>=0.2.38->langchain) (2.1)\n",
      "Downloading langchain-0.2.16-py3-none-any.whl (1.0 MB)\n",
      "\u001b[2K   \u001b[38;2;114;156;31m━━━━━━━━━━━━━━━━━━━━━━━━━━━━━━━━━━━━━━━━\u001b[0m \u001b[32m1.0/1.0 MB\u001b[0m \u001b[31m3.1 MB/s\u001b[0m eta \u001b[36m0:00:00\u001b[0m MB/s\u001b[0m eta \u001b[36m0:00:01\u001b[0m:01\u001b[0m\n",
      "\u001b[?25hDownloading langchain_core-0.2.38-py3-none-any.whl (396 kB)\n",
      "\u001b[2K   \u001b[38;2;114;156;31m━━━━━━━━━━━━━━━━━━━━━━━━━━━━━━━━━━━━━━━━\u001b[0m \u001b[32m396.4/396.4 kB\u001b[0m \u001b[31m13.0 MB/s\u001b[0m eta \u001b[36m0:00:00\u001b[0m\n",
      "\u001b[?25hDownloading langchain_text_splitters-0.2.4-py3-none-any.whl (25 kB)\n",
      "Downloading langsmith-0.1.114-py3-none-any.whl (290 kB)\n",
      "\u001b[2K   \u001b[38;2;114;156;31m━━━━━━━━━━━━━━━━━━━━━━━━━━━━━━━━━━━━━━━━\u001b[0m \u001b[32m290.0/290.0 kB\u001b[0m \u001b[31m11.0 MB/s\u001b[0m eta \u001b[36m0:00:00\u001b[0m\n",
      "\u001b[?25hDownloading orjson-3.10.7-cp311-cp311-manylinux_2_17_x86_64.manylinux2014_x86_64.whl (141 kB)\n",
      "\u001b[2K   \u001b[38;2;114;156;31m━━━━━━━━━━━━━━━━━━━━━━━━━━━━━━━━━━━━━━━━\u001b[0m \u001b[32m141.9/141.9 kB\u001b[0m \u001b[31m14.0 MB/s\u001b[0m eta \u001b[36m0:00:00\u001b[0m\n",
      "\u001b[?25hInstalling collected packages: orjson, langsmith, langchain-core, langchain-text-splitters, langchain\n",
      "Successfully installed langchain-0.2.16 langchain-core-0.2.38 langchain-text-splitters-0.2.4 langsmith-0.1.114 orjson-3.10.7\n"
     ]
    }
   ],
   "source": [
    "!pip install langchain"
   ]
  },
  {
   "cell_type": "code",
   "execution_count": 2,
   "id": "60d98fea-70b7-4185-9fa2-907b47e4e767",
   "metadata": {},
   "outputs": [],
   "source": [
    "from langchain.llms import OpenAI"
   ]
  },
  {
   "cell_type": "code",
   "execution_count": 3,
   "id": "4d3b0197-db90-4544-a93a-d4d71f4dcd95",
   "metadata": {},
   "outputs": [],
   "source": [
    "from secret_key import openapi_key"
   ]
  },
  {
   "cell_type": "code",
   "execution_count": 6,
   "id": "bcdb1025-e680-4e69-b420-16fc3c7ef6e6",
   "metadata": {},
   "outputs": [],
   "source": [
    "import os"
   ]
  },
  {
   "cell_type": "code",
   "execution_count": 15,
   "id": "8822df5d-10fd-4b4b-8dfe-35648ace2ba1",
   "metadata": {},
   "outputs": [
    {
     "name": "stdout",
     "output_type": "stream",
     "text": [
      "\n",
      "\n",
      "Hello Raja, my name is OpenAI. Nice to meet you!\n"
     ]
    }
   ],
   "source": [
    "os.environ[\"OPENAI_API_KEY\"]=openapi_key\n",
    "llm=OpenAI(temperature=0.1)\n",
    "message=llm(\"HI my name is RAja what is your name?\")\n",
    "print(message)"
   ]
  },
  {
   "cell_type": "code",
   "execution_count": 19,
   "id": "81d66dac-455f-41ad-b7af-fef934ed2244",
   "metadata": {},
   "outputs": [
    {
     "data": {
      "text/plain": [
       "'I want to open a restaurant for Indian food. Suggest a fancy name for this'"
      ]
     },
     "execution_count": 19,
     "metadata": {},
     "output_type": "execute_result"
    }
   ],
   "source": [
    "from langchain.prompts import PromptTemplate\n",
    "promt_template_name=PromptTemplate(\n",
    "    input_var=[\"cuisine\"],\n",
    "    template=\"I want to open a restaurant for {cuisine} food. Suggest a fancy name for this\"\n",
    ")\n",
    "promt_template_name.format(cuisine=\"Indian\")"
   ]
  },
  {
   "cell_type": "code",
   "execution_count": 21,
   "id": "855d7d25-7a3c-44c5-8660-43539f33c05b",
   "metadata": {},
   "outputs": [
    {
     "name": "stderr",
     "output_type": "stream",
     "text": [
      "/tmp/ipykernel_14992/1196465786.py:2: LangChainDeprecationWarning: The class `LLMChain` was deprecated in LangChain 0.1.17 and will be removed in 1.0. Use RunnableSequence, e.g., `prompt | llm` instead.\n",
      "  chain=LLMChain(llm=llm,prompt=promt_template_name)\n",
      "/tmp/ipykernel_14992/1196465786.py:3: LangChainDeprecationWarning: The method `Chain.run` was deprecated in langchain 0.1.0 and will be removed in 1.0. Use invoke instead.\n",
      "  chain.run(\"American\")\n"
     ]
    },
    {
     "data": {
      "text/plain": [
       "'\\n\\n\"Stateside Eats\" '"
      ]
     },
     "execution_count": 21,
     "metadata": {},
     "output_type": "execute_result"
    }
   ],
   "source": [
    "from langchain.chains import LLMChain\n",
    "chain=LLMChain(llm=llm,prompt=promt_template_name)\n",
    "chain.run(\"American\")"
   ]
  },
  {
   "cell_type": "code",
   "execution_count": 31,
   "id": "e7f808c9-bc9f-454f-af62-7ba4c9269d0e",
   "metadata": {},
   "outputs": [
    {
     "data": {
      "text/plain": [
       "\" IN simple sequential chain we will get the only one output at a time. result will provide the last questions's answer\""
      ]
     },
     "execution_count": 31,
     "metadata": {},
     "output_type": "execute_result"
    }
   ],
   "source": [
    "######SIMPLE SEQUENTIAL CHAIN\n",
    "\n",
    "\"\"\" IN simple sequential chain we will get the only one output at a time. result will provide the last questions's answer\"\"\""
   ]
  },
  {
   "cell_type": "code",
   "execution_count": 25,
   "id": "1e8b9ebb-8831-4681-b0c4-13e1fcbf90d2",
   "metadata": {},
   "outputs": [],
   "source": [
    "promt_template_name=PromptTemplate(\n",
    "    input_var=[\"cuisine\"],\n",
    "    template=\"I want to open a restaurant for {cuisine} food. Suggest a fancy name for this\"\n",
    ")\n",
    "\n",
    "name_chain=LLMChain(llm=llm,prompt=promt_template_name)\n",
    "\n",
    "promt_template_item=PromptTemplate(\n",
    "    input_var=[\"restaurant\"],\n",
    "    template=\"Suggest me some food menu for {restaurant}. Return as a comma seperated list\"\n",
    ")\n",
    "\n",
    "\n",
    "food_item_chain=LLMChain(llm=llm,prompt=promt_template_item)"
   ]
  },
  {
   "cell_type": "code",
   "execution_count": 27,
   "id": "a684a473-c8d2-4af1-8247-ce03c2e69499",
   "metadata": {},
   "outputs": [],
   "source": [
    "from langchain.chains import SimpleSequentialChain\n",
    "chains= SimpleSequentialChain(chains=[name_chain,food_item_chain])\n",
    "response=chains.run(\"Indian\")"
   ]
  },
  {
   "cell_type": "code",
   "execution_count": 29,
   "id": "01dd1ed7-8541-462b-9906-6efa1e0c5a90",
   "metadata": {},
   "outputs": [
    {
     "name": "stdout",
     "output_type": "stream",
     "text": [
      "\n",
      "\n",
      "1. Appetizers: Samosas, Vegetable Pakoras, Chicken Tikka, Papadum\n",
      "2. Soups: Mulligatawny Soup, Lentil Soup\n",
      "3. Entrees: Butter Chicken, Lamb Vindaloo, Vegetable Biryani, Saag Paneer\n",
      "4. Tandoori Specialties: Tandoori Chicken, Tandoori Shrimp, Tandoori Fish\n",
      "5. Breads: Naan, Garlic Naan, Onion Kulcha\n",
      "6. Rice: Saffron Rice, Coconut Rice\n",
      "7. Desserts: Gulab Jamun, Kheer, Mango Lassi\n",
      "8. Beverages: Masala Chai, Mango Juice, Indian Beer\n",
      "9. Vegetarian Options: Aloo Gobi, Chana Masala, Dal Makhani\n",
      "10. Non-vegetarian Options: Chicken Tikka Masala, Lamb Rogan Josh, Fish Curry\n",
      "\n",
      "Note: Menu items may vary depending on availability and location. \n"
     ]
    }
   ],
   "source": [
    "print(response)"
   ]
  },
  {
   "cell_type": "code",
   "execution_count": 35,
   "id": "1575be11-29bf-41ae-af08-e34201b4648c",
   "metadata": {},
   "outputs": [],
   "source": [
    "######## Sequential chain \n",
    "###########\"\"\" It will support the multiple input and multiple output\"\"\""
   ]
  },
  {
   "cell_type": "code",
   "execution_count": 43,
   "id": "52e04711-4564-41fe-9c1f-f5a891d3d70b",
   "metadata": {},
   "outputs": [],
   "source": [
    "promt_template_name=PromptTemplate(\n",
    "    input_var=[\"cuisine\"],\n",
    "    template=\"I want to open a restaurant for {cuisine} food. Suggest a fancy name for this\"\n",
    ")\n",
    "\n",
    "name_chain=LLMChain(llm=llm,prompt=promt_template_name,output_key=\"restaurant\")\n",
    "\n",
    "promt_template_item=PromptTemplate(\n",
    "    input_var=[\"restaurant\"],\n",
    "    template=\"Suggest me some food menu for {restaurant}. Return as a comma seperated list\"\n",
    ")\n",
    "\n",
    "food_item_chain=LLMChain(llm=llm,prompt=promt_template_item,output_key=\"menu_items\")"
   ]
  },
  {
   "cell_type": "code",
   "execution_count": 45,
   "id": "f2f3e239-1151-4675-b42f-0bd3cc015018",
   "metadata": {},
   "outputs": [
    {
     "name": "stderr",
     "output_type": "stream",
     "text": [
      "/tmp/ipykernel_14992/2821177710.py:7: LangChainDeprecationWarning: The method `Chain.__call__` was deprecated in langchain 0.1.0 and will be removed in 1.0. Use invoke instead.\n",
      "  seq_chain({'cuisine':\"Arabic\"})\n"
     ]
    },
    {
     "data": {
      "text/plain": [
       "{'cuisine': 'Arabic',\n",
       " 'restaurant': '\\n\\n\"Al-Arabia Bistro\"',\n",
       " 'menu_items': '\\n\\n1. Appetizers: Hummus, Baba Ghanoush, Falafel, Tabouleh Salad\\n2. Entrees: Shawarma Platter, Lamb Kebabs, Chicken Shawarma Wrap, Beef Kofta\\n3. Vegetarian Options: Falafel Wrap, Vegetable Tagine, Lentil Soup, Fattoush Salad\\n4. Sides: Rice Pilaf, Grilled Vegetables, Pita Bread, Garlic Sauce\\n5. Desserts: Baklava, Kunafa, Basbousa, Turkish Delight\\n6. Beverages: Mint Lemonade, Turkish Coffee, Ayran, Arabic Tea'}"
      ]
     },
     "execution_count": 45,
     "metadata": {},
     "output_type": "execute_result"
    }
   ],
   "source": [
    "from langchain.chains import SequentialChain\n",
    "seq_chain=SequentialChain(\n",
    "    chains=[name_chain,food_item_chain],\n",
    "    input_variables=[\"cuisine\"],\n",
    "    output_variables=[\"restaurant\",\"menu_items\"]\n",
    ")\n",
    "seq_chain({'cuisine':\"Arabic\"})"
   ]
  },
  {
   "cell_type": "code",
   "execution_count": 47,
   "id": "4bc57c84-0611-4119-84e5-5faa7a2f7b2e",
   "metadata": {},
   "outputs": [
    {
     "data": {
      "text/plain": [
       "<module 'posixpath' (frozen)>"
      ]
     },
     "execution_count": 47,
     "metadata": {},
     "output_type": "execute_result"
    }
   ],
   "source": [
    "os.path"
   ]
  },
  {
   "cell_type": "code",
   "execution_count": null,
   "id": "6fe188c8-e7fb-42f8-875e-21ffe480e2e4",
   "metadata": {},
   "outputs": [],
   "source": []
  }
 ],
 "metadata": {
  "kernelspec": {
   "display_name": "Python 3 (ipykernel)",
   "language": "python",
   "name": "python3"
  },
  "language_info": {
   "codemirror_mode": {
    "name": "ipython",
    "version": 3
   },
   "file_extension": ".py",
   "mimetype": "text/x-python",
   "name": "python",
   "nbconvert_exporter": "python",
   "pygments_lexer": "ipython3",
   "version": "3.11.9"
  }
 },
 "nbformat": 4,
 "nbformat_minor": 5
}
